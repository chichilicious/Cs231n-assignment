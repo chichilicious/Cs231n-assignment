{
 "cells": [
  {
   "cell_type": "code",
   "execution_count": 1,
   "metadata": {},
   "outputs": [
    {
     "name": "stderr",
     "output_type": "stream",
     "text": [
      "C:\\Users\\shrisha.bharadwaj\\AppData\\Local\\Continuum\\anaconda3\\lib\\site-packages\\h5py\\__init__.py:36: FutureWarning: Conversion of the second argument of issubdtype from `float` to `np.floating` is deprecated. In future, it will be treated as `np.float64 == np.dtype(float).type`.\n",
      "  from ._conv import register_converters as _register_converters\n"
     ]
    }
   ],
   "source": [
    "import tensorflow as tf"
   ]
  },
  {
   "cell_type": "code",
   "execution_count": 2,
   "metadata": {},
   "outputs": [
    {
     "name": "stdout",
     "output_type": "stream",
     "text": [
      "[[8 8 8 8]\n",
      " [8 8 8 8]\n",
      " [8 8 8 8]]\n"
     ]
    }
   ],
   "source": [
    "a = tf.constant(3, shape = (3,4), name = \"array_1\")\n",
    "b = tf.constant(5, shape = (3,4), name = \"array_2\")\n",
    "addition = tf.add(a,b, name= \"Op1\")\n",
    "writer = tf.summary.FileWriter(\"./Graph\", tf.get_default_graph())\n",
    "#print(tf.get_default_graph().as_graph_def())\n",
    "with tf.Session() as sess:\n",
    "    print(sess.run(addition))\n",
    "sess.close()    "
   ]
  },
  {
   "cell_type": "markdown",
   "metadata": {},
   "source": [
    "### tf.get_variable\n",
    "    name,\n",
    "    shape=None,\n",
    "    dtype=None,\n",
    "    initializer=None,\n",
    "    regularizer=None,\n",
    "    trainable=True,\n",
    "    collections=None,\n",
    "    caching_device=None,\n",
    "    partitioner=None,\n",
    "    validate_shape=True,\n",
    "    use_resource=None,\n",
    "    custom_getter=None,\n",
    "    constraint=None\n"
   ]
  },
  {
   "cell_type": "code",
   "execution_count": 3,
   "metadata": {},
   "outputs": [],
   "source": [
    "tf.reset_default_graph()\n",
    "#writer = tf.summary.FileWriter(\"./Graph\", tf.get_default_graph)\n",
    "s = tf.get_variable(\"scalar\", initializer=tf.constant(2)) \n",
    "m = tf.get_variable(\"matrix\", initializer=tf.constant([[0, 1], [2, 3]]))\n",
    "W = tf.get_variable(\"big_matrix\", shape=(784, 10), initializer=tf.zeros_initializer())\n"
   ]
  },
  {
   "cell_type": "code",
   "execution_count": 4,
   "metadata": {},
   "outputs": [
    {
     "name": "stdout",
     "output_type": "stream",
     "text": [
      "None\n",
      "(784, 10)\n"
     ]
    }
   ],
   "source": [
    "with tf.Session() as sess:\n",
    "    print(sess.run(W.initializer)) #initialize\n",
    "    print(sess.run(W).shape)\n",
    "sess.close()"
   ]
  },
  {
   "cell_type": "code",
   "execution_count": 5,
   "metadata": {},
   "outputs": [
    {
     "name": "stdout",
     "output_type": "stream",
     "text": [
      "<tf.Variable 'Variable:0' shape=() dtype=int32_ref>\n",
      "100\n",
      "100\n"
     ]
    }
   ],
   "source": [
    "tf.reset_default_graph()\n",
    "ZX = tf.Variable(1)\n",
    "print(ZX)\n",
    "assign_op = ZX.assign(100) #assign operator initializes it for us\n",
    "with tf.Session() as sess:\n",
    "    print(sess.run(assign_op))\n",
    "    print(ZX.eval()) # >> 100\n",
    "sess.close()"
   ]
  },
  {
   "cell_type": "code",
   "execution_count": 6,
   "metadata": {},
   "outputs": [
    {
     "name": "stdout",
     "output_type": "stream",
     "text": [
      "None\n",
      "2\n",
      "4\n",
      "8\n"
     ]
    }
   ],
   "source": [
    "tf.reset_default_graph()\n",
    "a = tf.get_variable('scalar', initializer=tf.constant(2)) \n",
    "a_times_two = a.assign(a * 2)\n",
    "with tf.Session() as sess:\n",
    "    print(sess.run(tf.global_variables_initializer())) \n",
    "    print(sess.run(a))\n",
    "    print(sess.run(a_times_two))\n",
    "    print(sess.run(a_times_two))\n",
    "sess.close()"
   ]
  },
  {
   "cell_type": "code",
   "execution_count": 7,
   "metadata": {},
   "outputs": [
    {
     "name": "stdout",
     "output_type": "stream",
     "text": [
      "[6. 7. 8.]\n"
     ]
    }
   ],
   "source": [
    "a = tf.placeholder(tf.float32, shape=[3])\n",
    "b = tf.constant([5,5,5], tf.float32)\n",
    "c = a+b\n",
    "writer = tf.summary.FileWriter('graphs/placeholders', tf.get_default_graph())\n",
    "with tf.Session() as sess:\n",
    "    print(sess.run(c,{a:[1,2,3]}))"
   ]
  }
 ],
 "metadata": {
  "kernelspec": {
   "display_name": "Python 3",
   "language": "python",
   "name": "python3"
  },
  "language_info": {
   "codemirror_mode": {
    "name": "ipython",
    "version": 3
   },
   "file_extension": ".py",
   "mimetype": "text/x-python",
   "name": "python",
   "nbconvert_exporter": "python",
   "pygments_lexer": "ipython3",
   "version": "3.6.5"
  }
 },
 "nbformat": 4,
 "nbformat_minor": 2
}
